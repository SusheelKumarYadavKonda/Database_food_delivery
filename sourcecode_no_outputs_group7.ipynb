{
 "cells": [
  {
   "cell_type": "code",
   "execution_count": null,
   "metadata": {
    "id": "5c1RQsJkmt0e"
   },
   "outputs": [],
   "source": [
    "import requests\n",
    "from zipfile import ZipFile\n",
    "from io import BytesIO\n",
    "import os\n",
    "import cv2\n",
    "from matplotlib import pyplot as plt\n",
    "import random\n",
    "import numpy as np\n",
    "import tensorflow as tf\n",
    "from tensorflow.keras.models import Sequential\n",
    "from tensorflow.keras.layers import Dense, Dropout, Activation, Flatten, Conv2D, MaxPooling2D, BatchNormalization, GlobalAveragePooling2D, Input,Concatenate\n",
    "from sklearn.model_selection import train_test_split\n",
    "from tensorflow.keras.applications import InceptionV3, ResNet50, Xception, MobileNetV2, DenseNet121\n",
    "from tensorflow.keras.models import Model\n",
    "from tensorflow.keras.optimizers import Adam\n",
    "from tensorflow.keras.callbacks import ModelCheckpoint, EarlyStopping\n",
    "from tensorflow.keras.preprocessing.image import ImageDataGenerator\n",
    "import pickle"
   ]
  },
  {
   "cell_type": "markdown",
   "metadata": {
    "id": "7U6f4MMlWNGD"
   },
   "source": [
    "# **DOWNLOADING DATASET**"
   ]
  },
  {
   "cell_type": "code",
   "execution_count": null,
   "metadata": {
    "colab": {
     "base_uri": "https://localhost:8080/"
    },
    "id": "SYjr8EMmzn1Q",
    "outputId": "8c80e7a0-5ff2-4f26-c910-e25c0b45b538"
   },
   "outputs": [],
   "source": [
    "url = 'https://archive.ics.uci.edu/static/public/773/defungi.zip'\n",
    "response = requests.get(url)\n",
    "if response.status_code == 200:\n",
    "    print(\"Download successful.\")\n",
    "else:\n",
    "    print(\"Failed to download the file. Status code:\", response.status_code)"
   ]
  },
  {
   "cell_type": "markdown",
   "metadata": {
    "id": "OAGBs_R0WQz5"
   },
   "source": [
    "# GOOGLE DRIVE"
   ]
  },
  {
   "cell_type": "code",
   "execution_count": null,
   "metadata": {
    "colab": {
     "base_uri": "https://localhost:8080/"
    },
    "id": "LKpmktx_WHAz",
    "outputId": "0103744b-8fd5-4fda-92cd-a987fa02ea36"
   },
   "outputs": [],
   "source": [
    "from google.colab import drive\n",
    "drive.mount('/content/drive')"
   ]
  },
  {
   "cell_type": "code",
   "execution_count": null,
   "metadata": {
    "colab": {
     "base_uri": "https://localhost:8080/"
    },
    "id": "Xd6cgMNhzyfe",
    "outputId": "05adac57-3799-44a2-e575-9770fdc4e8b8"
   },
   "outputs": [],
   "source": [
    "if response.status_code == 200:\n",
    "    zip_file = ZipFile(BytesIO(response.content))\n",
    "    zip_file.extractall('/content/dataset')\n",
    "    print(\"Extraction complete.\")\n",
    "    zip_file.close()"
   ]
  },
  {
   "cell_type": "code",
   "execution_count": null,
   "metadata": {
    "colab": {
     "base_uri": "https://localhost:8080/",
     "height": 435
    },
    "id": "SqkOCyKM0Cvm",
    "outputId": "fe6c3467-8a73-426a-d59a-40e191566bbe"
   },
   "outputs": [],
   "source": [
    "datadirectory = '/content/dataset'\n",
    "\n",
    "categories=['H1','H2','H3','H5','H6']\n",
    "\n",
    "for category in categories:\n",
    "    path = os.path.join(datadirectory, category)\n",
    "    for img in os.listdir(path):\n",
    "        img_array = cv2.imread(os.path.join(path, img), cv2.IMREAD_GRAYSCALE)\n",
    "        plt.imshow(img_array, cmap='gray')\n",
    "        plt.show()\n",
    "        break\n",
    "    break"
   ]
  },
  {
   "cell_type": "code",
   "execution_count": null,
   "metadata": {
    "colab": {
     "base_uri": "https://localhost:8080/"
    },
    "id": "GHsoeQmy0WRJ",
    "outputId": "85154fd4-2b34-4cc4-9f4f-cec2be9e7618"
   },
   "outputs": [],
   "source": [
    "print(img_array.shape)"
   ]
  },
  {
   "cell_type": "markdown",
   "metadata": {
    "id": "Q2P-ImtrZUfj"
   },
   "source": [
    "# DATA PREPROCESSING 1ST EXPERIMENT\n",
    "\n",
    "\n",
    "\n",
    "*   The Data is prepared with resoultion of 80x80\n",
    "\n"
   ]
  },
  {
   "cell_type": "code",
   "execution_count": null,
   "metadata": {
    "id": "G1hg4vNm0gN7"
   },
   "outputs": [],
   "source": [
    "img_size = 80"
   ]
  },
  {
   "cell_type": "code",
   "execution_count": null,
   "metadata": {
    "colab": {
     "base_uri": "https://localhost:8080/",
     "height": 433
    },
    "id": "8qEfb5wr0jhg",
    "outputId": "e556715b-f06a-489a-96e9-756e0b61124a"
   },
   "outputs": [],
   "source": [
    "new_array_trail = cv2.resize(img_array,(img_size,img_size))\n",
    "plt.imshow(new_array_trail, cmap='gray')\n",
    "plt.show()"
   ]
  },
  {
   "cell_type": "code",
   "execution_count": null,
   "metadata": {
    "id": "OrjSFWHS0rGq"
   },
   "outputs": [],
   "source": [
    "training_data=[]\n",
    "\n",
    "def create_training_data():\n",
    "    for category in categories:\n",
    "        path = os.path.join(datadirectory, category)\n",
    "        class_num=categories.index(category)\n",
    "        for img in os.listdir(path):\n",
    "            try:\n",
    "                img_array = cv2.imread(os.path.join(path, img), cv2.IMREAD_GRAYSCALE)\n",
    "                new_array =cv2.resize(img_array,(80,80))\n",
    "                training_data.append([new_array,class_num])\n",
    "            except Exception as e:\n",
    "                pass\n",
    "create_training_data()"
   ]
  },
  {
   "cell_type": "code",
   "execution_count": null,
   "metadata": {
    "colab": {
     "base_uri": "https://localhost:8080/"
    },
    "id": "gOZRmFOa0wU_",
    "outputId": "bcf2ade2-149c-4e77-913c-dfea0498a188"
   },
   "outputs": [],
   "source": [
    "len(training_data)"
   ]
  },
  {
   "cell_type": "code",
   "execution_count": null,
   "metadata": {
    "colab": {
     "base_uri": "https://localhost:8080/"
    },
    "id": "j6e86LQi0zwr",
    "outputId": "a7cdd5b9-b801-4e68-92ee-6db68ae49261",
    "scrolled": false
   },
   "outputs": [],
   "source": []
  },
  {
   "cell_type": "code",
   "execution_count": null,
   "metadata": {
    "id": "xeOVCmkDMgul"
   },
   "outputs": [],
   "source": []
  },
  {
   "cell_type": "code",
   "execution_count": null,
   "metadata": {
    "id": "BeB_P0yl01J0"
   },
   "outputs": [],
   "source": [
    "random.shuffle(training_data)"
   ]
  },
  {
   "cell_type": "code",
   "execution_count": null,
   "metadata": {
    "id": "94PGYvUc0-DO"
   },
   "outputs": [],
   "source": [
    "X = []\n",
    "y = []"
   ]
  },
  {
   "cell_type": "code",
   "execution_count": null,
   "metadata": {
    "id": "R3yzUFvs2Ma-"
   },
   "outputs": [],
   "source": [
    "for features, labels in training_data:\n",
    "    X.append(features)\n",
    "    y.append(labels)\n",
    "\n",
    "X = np.array(X).reshape(-1, 80,80, 1)\n",
    "y= np.array(y)"
   ]
  },
  {
   "cell_type": "code",
   "execution_count": null,
   "metadata": {
    "id": "xHzx6gpJ7YiA"
   },
   "outputs": [],
   "source": [
    "\n",
    "y = tf.keras.utils.to_categorical(y, num_classes=5)\n",
    "\n"
   ]
  },
  {
   "cell_type": "code",
   "execution_count": null,
   "metadata": {
    "colab": {
     "base_uri": "https://localhost:8080/"
    },
    "id": "7vzUHGEY1Pyv",
    "outputId": "db56494b-c110-431e-f232-01c63b5fd7cf"
   },
   "outputs": [],
   "source": [
    "from google.colab import drive\n",
    "drive.mount('/content/drive')\n"
   ]
  },
  {
   "cell_type": "code",
   "execution_count": null,
   "metadata": {
    "id": "XYF3q-ou1Xu3"
   },
   "outputs": [],
   "source": [
    "\n",
    "path_X = '/content/drive/My Drive/X.pickle'\n",
    "path_y = '/content/drive/My Drive/y.pickle'\n",
    "\n",
    "# Saving X\n",
    "with open(path_X, 'wb') as pickle_out:\n",
    "    pickle.dump(X, pickle_out)\n",
    "\n",
    "# Saving y\n",
    "with open(path_y, 'wb') as pickle_out:\n",
    "    pickle.dump(y, pickle_out)"
   ]
  },
  {
   "cell_type": "code",
   "execution_count": null,
   "metadata": {
    "id": "S0rjSR0HLUve"
   },
   "outputs": [],
   "source": [
    "path_X = '/content/drive/My Drive/X.pickle'\n",
    "path_y = '/content/drive/My Drive/y.pickle'"
   ]
  },
  {
   "cell_type": "code",
   "execution_count": null,
   "metadata": {
    "id": "RhZDdxSJ1njh"
   },
   "outputs": [],
   "source": [
    "with open(path_X, 'rb') as pickle_in:\n",
    "    X = pickle.load(pickle_in)\n"
   ]
  },
  {
   "cell_type": "code",
   "execution_count": null,
   "metadata": {
    "id": "MoMfWuTi1pR5"
   },
   "outputs": [],
   "source": [
    "with open(path_y, 'rb') as pickle_in:\n",
    "    y = pickle.load(pickle_in)"
   ]
  },
  {
   "cell_type": "code",
   "execution_count": null,
   "metadata": {
    "colab": {
     "base_uri": "https://localhost:8080/"
    },
    "id": "LxNQOjBM2AwO",
    "outputId": "1d40f0dc-44e9-4d3a-b4d5-af85782944be"
   },
   "outputs": [],
   "source": [
    "X.shape"
   ]
  },
  {
   "cell_type": "code",
   "execution_count": null,
   "metadata": {
    "colab": {
     "base_uri": "https://localhost:8080/"
    },
    "id": "YByKgD6B2CRU",
    "outputId": "9394920b-7bab-4df5-fe74-c454c23a0ff6"
   },
   "outputs": [],
   "source": [
    "y.shape"
   ]
  },
  {
   "cell_type": "code",
   "execution_count": null,
   "metadata": {
    "colab": {
     "base_uri": "https://localhost:8080/"
    },
    "id": "RwTfJZjGNWx0",
    "outputId": "8ea946e8-bd79-452a-f98f-781f920f6801"
   },
   "outputs": [],
   "source": [
    "X_train, X_test, y_train, y_test = train_test_split(X, y, test_size=0.2, random_state=42)\n",
    "\n",
    "print(\"Training data shape:\", X_train.shape)\n",
    "print(\"Training labels shape:\", y_train.shape)\n",
    "print(\"Testing data shape:\", X_test.shape)\n",
    "print(\"Testing labels shape:\", y_test.shape)"
   ]
  },
  {
   "cell_type": "code",
   "execution_count": null,
   "metadata": {
    "id": "qeorwByw2W7D"
   },
   "outputs": [],
   "source": [
    "X_train = X_train/255.0\n",
    "X_test = X_test/255.0"
   ]
  },
  {
   "cell_type": "markdown",
   "metadata": {
    "id": "oqBBJW2yWINt"
   },
   "source": [
    "# **Basic ANN**"
   ]
  },
  {
   "cell_type": "code",
   "execution_count": null,
   "metadata": {
    "id": "qzTJJnec4FfA"
   },
   "outputs": [],
   "source": [
    "input_shape = (80, 80, 1)\n",
    "num_classes = 5"
   ]
  },
  {
   "cell_type": "code",
   "execution_count": null,
   "metadata": {
    "id": "IqnxJ4lj68pK"
   },
   "outputs": [],
   "source": [
    "model_1 = Sequential([\n",
    "    Flatten(input_shape=input_shape),\n",
    "    Dense(512, activation='relu'),\n",
    "    Dense(128, activation='relu'),\n",
    "    Dense(num_classes, activation='softmax')\n",
    "])"
   ]
  },
  {
   "cell_type": "code",
   "execution_count": null,
   "metadata": {
    "colab": {
     "base_uri": "https://localhost:8080/"
    },
    "id": "kW-usKxFQZ7B",
    "outputId": "1bac9868-d590-4f2b-9cc2-0aa7fc6f3d29"
   },
   "outputs": [],
   "source": [
    "model_1.summary()"
   ]
  },
  {
   "cell_type": "code",
   "execution_count": null,
   "metadata": {
    "id": "4Th8t5KMQrXQ"
   },
   "outputs": [],
   "source": [
    "model_1.compile(\n",
    "    optimizer=Adam(),\n",
    "    loss='categorical_crossentropy',\n",
    "    metrics=['accuracy']\n",
    ")\n"
   ]
  },
  {
   "cell_type": "code",
   "execution_count": null,
   "metadata": {
    "colab": {
     "base_uri": "https://localhost:8080/",
     "height": 1000
    },
    "id": "-Ef1vbU3RfFB",
    "outputId": "ab3d69c7-3ca9-46ff-e024-35ca36d7a8dc"
   },
   "outputs": [],
   "source": [
    "checkpoint = ModelCheckpoint('best_model_1.h5', save_best_only=True, monitor='val_accuracy', mode='max')\n",
    "\n",
    "\n",
    "history = model_1.fit(\n",
    "    X_train, y_train,\n",
    "    validation_split=0.2,\n",
    "    epochs=20,\n",
    "    batch_size=64,\n",
    "    callbacks=[checkpoint]\n",
    ")\n",
    "\n",
    "plt.figure(figsize=(10, 5))\n",
    "plt.plot(history.history['accuracy'], label='Train')\n",
    "plt.plot(history.history['val_accuracy'], label='Validation')\n",
    "plt.title('Model Accuracy')\n",
    "plt.ylabel('Accuracy')\n",
    "plt.xlabel('Epoch')\n",
    "plt.legend(loc='upper left')\n",
    "plt.show()\n"
   ]
  },
  {
   "cell_type": "code",
   "execution_count": null,
   "metadata": {
    "colab": {
     "base_uri": "https://localhost:8080/"
    },
    "id": "P1-m8OfNR-VH",
    "outputId": "7b02a7a1-d097-4a58-8a8d-b83b4b65f517"
   },
   "outputs": [],
   "source": [
    "best_model = tf.keras.models.load_model('best_model_1.h5')\n",
    "\n",
    "test_loss, test_accuracy = best_model.evaluate(X_test, y_test)\n",
    "print(\"Test Accuracy:\", test_accuracy)"
   ]
  },
  {
   "cell_type": "markdown",
   "metadata": {
    "id": "8KKcWFeQbZYz"
   },
   "source": [
    "# **Dense ANN**"
   ]
  },
  {
   "cell_type": "code",
   "execution_count": null,
   "metadata": {
    "id": "oNzwt1meSu7s"
   },
   "outputs": [],
   "source": [
    "model_1_1 = Sequential([\n",
    "    Flatten(input_shape=input_shape),\n",
    "    Dense(512, activation='relu'),\n",
    "    Dropout(0.3),\n",
    "    Dense(256, activation='relu'),\n",
    "    BatchNormalization(),\n",
    "    Dense(128, activation='relu'),\n",
    "    Dropout(0.3),\n",
    "    Dense(num_classes, activation='softmax')\n",
    "])\n"
   ]
  },
  {
   "cell_type": "code",
   "execution_count": null,
   "metadata": {
    "id": "5NJ4IrfTT3L1"
   },
   "outputs": [],
   "source": [
    "model_1_1.compile(\n",
    "    optimizer=Adam(),\n",
    "    loss='categorical_crossentropy',\n",
    "    metrics=['accuracy']\n",
    ")\n"
   ]
  },
  {
   "cell_type": "code",
   "execution_count": null,
   "metadata": {
    "colab": {
     "base_uri": "https://localhost:8080/",
     "height": 1000
    },
    "id": "viFNzk1ST8DW",
    "outputId": "140f8217-8a0a-434b-ca58-9bc7d8419035"
   },
   "outputs": [],
   "source": [
    "checkpoint = ModelCheckpoint('best_model_1_1.h5', save_best_only=True, monitor='val_accuracy', mode='max')\n",
    "\n",
    "history = model_1_1.fit(\n",
    "    X_train, y_train,\n",
    "    validation_split=0.2,\n",
    "    epochs=20,\n",
    "    batch_size=64,\n",
    "    callbacks=[checkpoint]\n",
    ")\n",
    "plt.figure(figsize=(10, 5))\n",
    "plt.plot(history.history['accuracy'], label='Train')\n",
    "plt.plot(history.history['val_accuracy'], label='Validation')\n",
    "plt.title('Model Accuracy')\n",
    "plt.ylabel('Accuracy')\n",
    "plt.xlabel('Epoch')\n",
    "plt.legend(loc='upper left')\n",
    "plt.show()\n"
   ]
  },
  {
   "cell_type": "code",
   "execution_count": null,
   "metadata": {
    "colab": {
     "base_uri": "https://localhost:8080/"
    },
    "id": "H44xbdfCUCh2",
    "outputId": "1b9685e6-8e80-46ac-be69-250adec9fa13"
   },
   "outputs": [],
   "source": [
    "best_model = tf.keras.models.load_model('best_model_1_1.h5')\n",
    "\n",
    "test_loss, test_accuracy = best_model.evaluate(X_test, y_test)\n",
    "print(\"Test Accuracy:\", test_accuracy)"
   ]
  },
  {
   "cell_type": "markdown",
   "metadata": {
    "id": "0-7BRFh6WPOn"
   },
   "source": [
    "# **CNN**"
   ]
  },
  {
   "cell_type": "code",
   "execution_count": null,
   "metadata": {
    "id": "6DwiJ1EsUn5P"
   },
   "outputs": [],
   "source": [
    "model_2 = Sequential([\n",
    "    Conv2D(32, (3, 3), activation='relu', input_shape=(80, 80, 1)),\n",
    "    MaxPooling2D((2, 2)),\n",
    "    Conv2D(64, (3, 3), activation='relu'),\n",
    "    MaxPooling2D((2, 2)),\n",
    "    Conv2D(128, (3, 3), activation='relu'),\n",
    "    MaxPooling2D((2, 2)),\n",
    "    Flatten(),\n",
    "    Dense(128, activation='relu'),\n",
    "    Dense(num_classes, activation='softmax')\n",
    "])"
   ]
  },
  {
   "cell_type": "code",
   "execution_count": null,
   "metadata": {
    "id": "Xo1BISBTbdgz"
   },
   "outputs": [],
   "source": [
    "model_2.compile(optimizer='adam', loss='categorical_crossentropy', metrics=['accuracy'])"
   ]
  },
  {
   "cell_type": "code",
   "execution_count": null,
   "metadata": {
    "colab": {
     "base_uri": "https://localhost:8080/"
    },
    "id": "Whr5g_HBbfYt",
    "outputId": "b0d6f889-c6f1-43e3-ce76-628f2d8068b0"
   },
   "outputs": [],
   "source": [
    "model_2.summary()"
   ]
  },
  {
   "cell_type": "code",
   "execution_count": null,
   "metadata": {
    "colab": {
     "base_uri": "https://localhost:8080/",
     "height": 1000
    },
    "id": "iSjKnDCQbhvz",
    "outputId": "c11e9d47-335e-4347-e23b-62a46efad543"
   },
   "outputs": [],
   "source": [
    "checkpoint_2 = ModelCheckpoint('best_model_2.h5', save_best_only=True, monitor='val_accuracy', mode='max')\n",
    "\n",
    "history = model_2.fit(\n",
    "    X_train, y_train,\n",
    "    validation_split=0.2,\n",
    "    epochs=20,\n",
    "    batch_size=64,\n",
    "    callbacks=[checkpoint_2]\n",
    ")\n",
    "plt.figure(figsize=(10, 5))\n",
    "plt.plot(history.history['accuracy'], label='Train')\n",
    "plt.plot(history.history['val_accuracy'], label='Validation')\n",
    "plt.title('Model Accuracy')\n",
    "plt.ylabel('Accuracy')\n",
    "plt.xlabel('Epoch')\n",
    "plt.legend(loc='upper left')\n",
    "plt.show()"
   ]
  },
  {
   "cell_type": "code",
   "execution_count": null,
   "metadata": {
    "colab": {
     "base_uri": "https://localhost:8080/"
    },
    "id": "SQIafNWObynl",
    "outputId": "27d8f9eb-d6a9-43fa-80f0-d1758daa52ac"
   },
   "outputs": [],
   "source": [
    "best_model_2 = tf.keras.models.load_model('best_model_2.h5')\n",
    "# Evaluate the model on the test data\n",
    "test_loss, test_accuracy = best_model_2.evaluate(X_test, y_test)\n",
    "print(\"Test Accuracy:\", test_accuracy)"
   ]
  },
  {
   "cell_type": "markdown",
   "metadata": {
    "id": "yThu0ETlMR2g"
   },
   "source": [
    "# **DATA PREPROCESSING FOR HIGH RESOLUTION IMAGE OF 80x80**"
   ]
  },
  {
   "cell_type": "code",
   "execution_count": null,
   "metadata": {
    "id": "lrPrFjl1N2G3"
   },
   "outputs": [],
   "source": [
    "orginal_training_data=[]\n",
    "\n",
    "def create_training_data():\n",
    "    for category in categories:\n",
    "        path = os.path.join(datadirectory, category)  # Use category here, not categories\n",
    "        class_num=categories.index(category)\n",
    "        for img in os.listdir(path):\n",
    "            try:\n",
    "                img_array = cv2.imread(os.path.join(path, img), cv2.IMREAD_GRAYSCALE)\n",
    "                new_img_array =cv2.resize(img_array,(80,80))\n",
    "                orginal_training_data.append([new_img_array,class_num])\n",
    "            except Exception as e:\n",
    "                pass\n",
    "create_training_data()"
   ]
  },
  {
   "cell_type": "code",
   "execution_count": null,
   "metadata": {
    "id": "Yo-1hLBqOY1x"
   },
   "outputs": [],
   "source": [
    "orginal_training_data"
   ]
  },
  {
   "cell_type": "code",
   "execution_count": null,
   "metadata": {
    "id": "UWHxaKvkOMiu"
   },
   "outputs": [],
   "source": [
    "random.shuffle(orginal_training_data)"
   ]
  },
  {
   "cell_type": "code",
   "execution_count": null,
   "metadata": {
    "colab": {
     "base_uri": "https://localhost:8080/",
     "height": 433
    },
    "id": "i5EAYq0POjkp",
    "outputId": "0585a8ac-ced2-48ea-f1d8-0d53e4de61e0"
   },
   "outputs": [],
   "source": [
    "new_array_trail = cv2.resize(img_array,(80,80))\n",
    "plt.imshow(new_array_trail, cmap='gray')\n",
    "plt.show()"
   ]
  },
  {
   "cell_type": "code",
   "execution_count": null,
   "metadata": {
    "id": "43eQuHIvO-xz"
   },
   "outputs": [],
   "source": [
    "X_new=[]\n",
    "y_new=[]"
   ]
  },
  {
   "cell_type": "code",
   "execution_count": null,
   "metadata": {
    "id": "eJiF-9z3O5Az"
   },
   "outputs": [],
   "source": [
    "for features, labels in orginal_training_data:\n",
    "    X_new.append(features)\n",
    "    y_new.append(labels)\n",
    "\n",
    "X_new = np.array(X_new).reshape(-1, 80,80, 1)\n",
    "y_new= np.array(y_new)"
   ]
  },
  {
   "cell_type": "code",
   "execution_count": null,
   "metadata": {
    "id": "fnQD51ZkPJ96"
   },
   "outputs": [],
   "source": [
    "y_new = tf.keras.utils.to_categorical(y_new, num_classes=5)"
   ]
  },
  {
   "cell_type": "code",
   "execution_count": null,
   "metadata": {
    "id": "KOmqYm5SPSLC"
   },
   "outputs": [],
   "source": [
    "path_X_new = '/content/drive/My Drive/X_new.pickle'\n",
    "path_y_new = '/content/drive/My Drive/y_new.pickle'\n",
    "\n",
    "with open(path_X_new, 'wb') as pickle_out:\n",
    "    pickle.dump(X_new, pickle_out)\n",
    "\n",
    "with open(path_y_new, 'wb') as pickle_out:\n",
    "    pickle.dump(y_new, pickle_out)"
   ]
  },
  {
   "cell_type": "code",
   "execution_count": null,
   "metadata": {
    "id": "WAQIRRYJaJhx"
   },
   "outputs": [],
   "source": [
    "path_X_new = '/content/drive/MyDrive/X_new.pickle'\n",
    "path_y_new = '/content/drive/My Drive/y_new.pickle'"
   ]
  },
  {
   "cell_type": "code",
   "execution_count": null,
   "metadata": {
    "id": "sr1YuwB0PiWK"
   },
   "outputs": [],
   "source": [
    "with open(path_X_new, 'rb') as pickle_in:\n",
    "    X_new = pickle.load(pickle_in)"
   ]
  },
  {
   "cell_type": "code",
   "execution_count": null,
   "metadata": {
    "id": "1lUCENjhPqL7"
   },
   "outputs": [],
   "source": [
    "with open(path_y_new, 'rb') as pickle_in:\n",
    "    y_new = pickle.load(pickle_in)"
   ]
  },
  {
   "cell_type": "code",
   "execution_count": null,
   "metadata": {
    "colab": {
     "base_uri": "https://localhost:8080/"
    },
    "id": "2q0Vt__OPyCo",
    "outputId": "835273a2-7ebc-42b1-9919-3a7a6090d7d9"
   },
   "outputs": [],
   "source": [
    "Xnew_train, Xnew_test, ynew_train, ynew_test = train_test_split(X_new, y_new, test_size=0.2, random_state=42)\n",
    "\n",
    "print(\"Training data shape:\", Xnew_train.shape)\n",
    "print(\"Training labels shape:\", ynew_train.shape)\n",
    "print(\"Testing data shape:\", Xnew_test.shape)\n",
    "print(\"Testing labels shape:\", ynew_test.shape)"
   ]
  },
  {
   "cell_type": "markdown",
   "metadata": {
    "id": "kVZZ6i8fcZAL"
   },
   "source": [
    "# **IMAGEDATAGENERATOR FOR PREPROCESSING**\n"
   ]
  },
  {
   "cell_type": "code",
   "execution_count": null,
   "metadata": {
    "id": "IeSwwR_Imrww"
   },
   "outputs": [],
   "source": [
    "Xnew_train_1, Xnew_val, ynew_train_1, ynew_val = train_test_split(Xnew_train, ynew_train, test_size=0.2, random_state=42)"
   ]
  },
  {
   "cell_type": "code",
   "execution_count": null,
   "metadata": {
    "colab": {
     "base_uri": "https://localhost:8080/"
    },
    "id": "Gh6jo6bHuO3r",
    "outputId": "5acd8798-1e0a-475e-bd8f-9ef988404d34"
   },
   "outputs": [],
   "source": [
    "print(\"Training data shape:\", Xnew_train_1.shape)\n",
    "print(\"Training labels shape:\", ynew_train_1.shape)\n",
    "print(\"validation data shape:\", Xnew_val.shape)\n",
    "print(\"validation labels shape:\", ynew_val.shape)\n",
    "print(\"Testing data shape:\", Xnew_test.shape)\n",
    "print(\"Testing labels shape:\", ynew_test.shape)"
   ]
  },
  {
   "cell_type": "code",
   "execution_count": null,
   "metadata": {
    "id": "jZPoMbEVP8QD"
   },
   "outputs": [],
   "source": [
    "train_datagen = ImageDataGenerator(\n",
    "    rescale=1./255,\n",
    "    rotation_range=20,\n",
    "    horizontal_flip=True,\n",
    "    fill_mode='nearest'\n",
    ")\n",
    "\n",
    "val_datagen=ImageDataGenerator(rescale=1./255)\n",
    "\n",
    "test_datagen = ImageDataGenerator(rescale=1./255)\n"
   ]
  },
  {
   "cell_type": "code",
   "execution_count": null,
   "metadata": {
    "id": "Xddu2MHwRZZq"
   },
   "outputs": [],
   "source": [
    "train_generator = train_datagen.flow(\n",
    "    Xnew_train_1, ynew_train_1,\n",
    "    batch_size=32\n",
    ")\n",
    "\n",
    "validation_generator = test_datagen.flow(\n",
    "    Xnew_val, ynew_val,\n",
    "    batch_size=32\n",
    ")\n",
    "test_generator = test_datagen.flow(\n",
    "    Xnew_test, ynew_test,\n",
    "    batch_size=32\n",
    ")\n"
   ]
  },
  {
   "cell_type": "code",
   "execution_count": null,
   "metadata": {
    "colab": {
     "base_uri": "https://localhost:8080/"
    },
    "id": "sBb7PPppz_HU",
    "outputId": "73471911-35e0-4e3b-ba99-0287db7a7746"
   },
   "outputs": [],
   "source": [
    "train_generator"
   ]
  },
  {
   "cell_type": "markdown",
   "metadata": {
    "id": "8Te_3W-NcP6Y"
   },
   "source": [
    "# **CNN ARCHITECTURE WITH ADDITIONAL CONVOLUTION AND DENSE LAYERS**"
   ]
  },
  {
   "cell_type": "code",
   "execution_count": null,
   "metadata": {
    "id": "Sq0Ut8_SdXap"
   },
   "outputs": [],
   "source": [
    "model_3 = tf.keras.Sequential([\n",
    "    Conv2D(32, (3, 3), activation='relu', input_shape=(80, 80, 1)),\n",
    "    BatchNormalization(),\n",
    "    Conv2D(32, (3, 3), activation='relu'),\n",
    "    MaxPooling2D((2, 2)),\n",
    "\n",
    "    Conv2D(64, (3, 3), activation='relu'),\n",
    "    BatchNormalization(),\n",
    "    Conv2D(64, (3, 3), activation='relu'),\n",
    "    MaxPooling2D((2, 2)),\n",
    "\n",
    "    Conv2D(128, (3, 3), activation='relu'),\n",
    "    BatchNormalization(),\n",
    "    Conv2D(128, (3, 3), activation='relu'),\n",
    "\n",
    "    Conv2D(256, (3, 3), activation='relu'),\n",
    "    BatchNormalization(),\n",
    "    Conv2D(256, (3, 3), activation='relu'),\n",
    "    MaxPooling2D((2, 2)),\n",
    "\n",
    "    Flatten(),\n",
    "\n",
    "    Dense(1024, activation='relu'),\n",
    "    Dropout(0.5),\n",
    "    Dense(512, activation='relu'),\n",
    "    Dropout(0.5),\n",
    "\n",
    "    Dense(5, activation='softmax')\n",
    "])\n",
    "\n",
    "model_3.compile(\n",
    "    optimizer='adam',\n",
    "    loss='categorical_crossentropy',\n",
    "    metrics=['accuracy']\n",
    ")\n"
   ]
  },
  {
   "cell_type": "code",
   "execution_count": null,
   "metadata": {
    "colab": {
     "base_uri": "https://localhost:8080/"
    },
    "id": "GDFCHsAOuAxP",
    "outputId": "b680570e-8059-4c00-f382-79211506a228"
   },
   "outputs": [],
   "source": [
    "model_3.summary()"
   ]
  },
  {
   "cell_type": "code",
   "execution_count": null,
   "metadata": {
    "id": "Kv5QiSX2iJl7"
   },
   "outputs": [],
   "source": [
    "checkpoint_cb = ModelCheckpoint(\n",
    "    'best_model_3.h5',\n",
    "    save_best_only=True,\n",
    "    monitor='val_accuracy',\n",
    "    mode='max',\n",
    "    verbose=1\n",
    ")\n",
    "early_stopping = EarlyStopping(monitor='val_accuracy', patience=2, min_delta=0.005, mode='max', verbose=1)"
   ]
  },
  {
   "cell_type": "code",
   "execution_count": null,
   "metadata": {
    "colab": {
     "base_uri": "https://localhost:8080/",
     "height": 837
    },
    "id": "1ZfGkQxqletM",
    "outputId": "aa60ded5-73fc-40f2-9650-2aba98478c40"
   },
   "outputs": [],
   "source": [
    "history = model_3.fit(\n",
    "    train_generator,\n",
    "    epochs=20,\n",
    "    batch_size=32,\n",
    "    validation_data=(Xnew_val, ynew_val),\n",
    "    callbacks=[checkpoint_cb, early_stopping],\n",
    "    verbose=1\n",
    ")\n",
    "\n",
    "plt.figure(figsize=(10, 5))\n",
    "plt.plot(history.history['accuracy'], label='Train')\n",
    "plt.plot(history.history['val_accuracy'], label='Validation')\n",
    "plt.title('Model Accuracy')\n",
    "plt.ylabel('Accuracy')\n",
    "plt.xlabel('Epoch')\n",
    "plt.legend(loc='upper left')\n",
    "plt.show()\n"
   ]
  },
  {
   "cell_type": "code",
   "execution_count": null,
   "metadata": {
    "id": "PeVqo3PKlggH"
   },
   "outputs": [],
   "source": [
    "model_3.save('final_model_complete')"
   ]
  },
  {
   "cell_type": "code",
   "execution_count": null,
   "metadata": {
    "colab": {
     "base_uri": "https://localhost:8080/"
    },
    "id": "6Q1-m8BcGgj6",
    "outputId": "c523c4b3-ef49-4ae2-bd42-f36017f5872f"
   },
   "outputs": [],
   "source": [
    "best_model_3= tf.keras.models.load_model('final_model_complete')\n",
    "test_loss, test_accuracy = best_model_3.evaluate(Xnew_test, ynew_test)\n",
    "print(\"Test Accuracy:\", test_accuracy)"
   ]
  },
  {
   "cell_type": "markdown",
   "metadata": {
    "id": "W2RZJq7XIa8D"
   },
   "source": [
    "# **Advanced arcitectures**"
   ]
  },
  {
   "cell_type": "code",
   "execution_count": null,
   "metadata": {
    "id": "w2C29sQuGp4u"
   },
   "outputs": [],
   "source": [
    "def create_model(model_name):\n",
    "    if model_name == 'InceptionV3':\n",
    "        base_model = InceptionV3(include_top=False, weights=None, input_tensor=Input(shape=(80, 80, 1)))\n",
    "    elif model_name == 'ResNet50':\n",
    "        base_model = ResNet50(include_top=False, weights=None, input_tensor=Input(shape=(80, 80, 1)))\n",
    "    elif model_name == 'Xception':\n",
    "        base_model = Xception(include_top=False, weights=None, input_tensor=Input(shape=(80, 80, 1)))\n",
    "    elif model_name == 'MobileNetV2':\n",
    "        base_model = MobileNetV2(include_top=False, weights=None, input_tensor=Input(shape=(80, 80, 1)))\n",
    "    elif model_name == 'DenseNet121':\n",
    "        base_model = DenseNet121(include_top=False, weights=None, input_tensor=Input(shape=(80, 80, 1)))\n",
    "    else:\n",
    "        return None\n",
    "\n",
    "    base_model.trainable = False\n",
    "    pool1 = GlobalAveragePooling2D()(base_model.output)\n",
    "    Dense1= Dense(512, activation='relu')(pool1)\n",
    "    Dropout1=Dropout(0.3)(Dense1)\n",
    "    Dense2=Dense(256, activation='relu')(Dropout1)\n",
    "    Normalizer1=BatchNormalization()(Dense2)\n",
    "    Dense3= Dense(128, activation='relu')(Normalizer1)\n",
    "    Dropout2=Dropout(0.3)(Dense3)\n",
    "    predictions = Dense(5, activation='softmax')(Dropout2)\n",
    "    model = Model(inputs=base_model.input, outputs=predictions)\n",
    "    model.compile(optimizer='adam', loss='categorical_crossentropy', metrics=['accuracy'])\n",
    "    return model\n"
   ]
  },
  {
   "cell_type": "markdown",
   "metadata": {
    "id": "Q89Otqb9K91r"
   },
   "source": [
    "# **INCEPTIONV3**"
   ]
  },
  {
   "cell_type": "code",
   "execution_count": null,
   "metadata": {
    "id": "8i7AKWOXJQYj"
   },
   "outputs": [],
   "source": [
    "inception = create_model('InceptionV3')"
   ]
  },
  {
   "cell_type": "code",
   "execution_count": null,
   "metadata": {
    "colab": {
     "base_uri": "https://localhost:8080/"
    },
    "id": "vSJCNbT8Jaff",
    "outputId": "eea04808-43cb-4a5f-9612-0def2ba7f28f"
   },
   "outputs": [],
   "source": [
    "inception.summary()"
   ]
  },
  {
   "cell_type": "code",
   "execution_count": null,
   "metadata": {
    "id": "ScSGYqhGKg6h"
   },
   "outputs": [],
   "source": [
    "checkpoint_inception = ModelCheckpoint(\n",
    "    'best_model_inception.h5',\n",
    "    save_best_only=True,\n",
    "    monitor='val_accuracy',\n",
    "    mode='max',\n",
    "    verbose=1\n",
    ")"
   ]
  },
  {
   "cell_type": "code",
   "execution_count": null,
   "metadata": {
    "colab": {
     "base_uri": "https://localhost:8080/"
    },
    "id": "MG-rSPmgKsXM",
    "outputId": "ef627244-0b12-4890-9e3b-4e1f6e1389ac"
   },
   "outputs": [],
   "source": [
    "history_inception = inception.fit(\n",
    "    train_generator,\n",
    "    epochs=1,\n",
    "    batch_size=32,\n",
    "    validation_data=(Xnew_val, ynew_val),\n",
    "    callbacks=[checkpoint_inception],\n",
    "    verbose=1\n",
    ")\n"
   ]
  },
  {
   "cell_type": "markdown",
   "metadata": {
    "id": "AImeCaEmPig-"
   },
   "source": [
    "# **Advanced Architectures comparision**"
   ]
  },
  {
   "cell_type": "code",
   "execution_count": null,
   "metadata": {
    "id": "-Q47ePoZSVys"
   },
   "outputs": [],
   "source": [
    "advanced_architectures= ['InceptionV3', 'ResNet50', 'Xception', 'MobileNetV2', 'DenseNet121']"
   ]
  },
  {
   "cell_type": "code",
   "execution_count": null,
   "metadata": {
    "id": "pFSlV3lhSTqM"
   },
   "outputs": [],
   "source": [
    "model_metrics = {}\n",
    "\n",
    "for md in advanced_architectures:\n",
    "  model_metrics[md] = {\n",
    "        'train_loss': [],\n",
    "        'train_accuracy': [],\n",
    "        'val_loss': [],\n",
    "        'val_accuracy': [],\n",
    "        'test_loss': None,\n",
    "        'test_accuracy': None\n",
    "    }"
   ]
  },
  {
   "cell_type": "code",
   "execution_count": null,
   "metadata": {
    "colab": {
     "base_uri": "https://localhost:8080/",
     "height": 1000
    },
    "id": "oIC5LJ2kK0bl",
    "outputId": "d3d9fb4a-dddf-4709-8328-17263f0499d6"
   },
   "outputs": [],
   "source": [
    "for md in advanced_architectures:\n",
    "    adv_model = create_model(md)\n",
    "    if adv_model is not None:\n",
    "        print(f\"training {md}\")\n",
    "        checkpoint_path = f'best_model_{md}.h5'\n",
    "        checkpoint_cb = ModelCheckpoint(\n",
    "            checkpoint_path,\n",
    "            save_best_only=True,\n",
    "            monitor='val_accuracy',\n",
    "            mode='max',\n",
    "            verbose=1\n",
    "        )\n",
    "        early_stopping = EarlyStopping(\n",
    "            monitor='val_accuracy',\n",
    "            patience=3,\n",
    "            min_delta=0.01,\n",
    "            mode='max',\n",
    "            verbose=1\n",
    "        )\n",
    "        history = adv_model.fit(\n",
    "            train_generator,\n",
    "            epochs=20,\n",
    "            validation_data=validation_generator,\n",
    "            callbacks=[checkpoint_cb, early_stopping],\n",
    "            verbose=1\n",
    "        )\n",
    "\n",
    "        plt.figure(figsize=(10, 5))\n",
    "        plt.plot(history.history['accuracy'], label='Train')\n",
    "        plt.plot(history.history['val_accuracy'], label='Validation')\n",
    "        plt.title('Model Accuracy')\n",
    "        plt.ylabel('Accuracy')\n",
    "        plt.xlabel('Epoch')\n",
    "        plt.legend(loc='upper left')\n",
    "        plt.show()\n",
    "\n",
    "\n",
    "        final_model_path = f'final_model_{md}_complete.h5'\n",
    "        adv_model.save(final_model_path)\n",
    "        test_loss, test_accuracy = adv_model.evaluate(test_generator)\n",
    "\n",
    "        model_metrics[md]['train_loss'] = history.history['loss']\n",
    "        model_metrics[md]['train_accuracy'] = history.history['accuracy']\n",
    "        model_metrics[md]['val_loss'] = history.history['val_loss']\n",
    "        model_metrics[md]['val_accuracy'] = history.history['val_accuracy']\n",
    "        model_metrics[md]['test_loss'] = test_loss\n",
    "        model_metrics[md]['test_accuracy'] = test_accuracy\n"
   ]
  },
  {
   "cell_type": "code",
   "execution_count": null,
   "metadata": {
    "colab": {
     "base_uri": "https://localhost:8080/"
    },
    "id": "y5BYdLvTSOVB",
    "outputId": "7bcfb3ad-e88c-46df-b6d4-a0a04c9ad9fc"
   },
   "outputs": [],
   "source": [
    "model_metrics"
   ]
  },
  {
   "cell_type": "code",
   "execution_count": null,
   "metadata": {
    "colab": {
     "base_uri": "https://localhost:8080/",
     "height": 141
    },
    "id": "gHuuPme8G4PV",
    "outputId": "a2e9fc78-4b26-487c-a56f-27053ea68ef0"
   },
   "outputs": [],
   "source": []
  },
  {
   "cell_type": "code",
   "execution_count": null,
   "metadata": {
    "id": "mBcH0VJXFWzL"
   },
   "outputs": [],
   "source": []
  },
  {
   "cell_type": "code",
   "execution_count": null,
   "metadata": {
    "id": "WmQe4i8pdhoE"
   },
   "outputs": [],
   "source": []
  }
 ],
 "metadata": {
  "colab": {
   "provenance": []
  },
  "kernelspec": {
   "display_name": "Python 3 (ipykernel)",
   "language": "python",
   "name": "python3"
  },
  "language_info": {
   "codemirror_mode": {
    "name": "ipython",
    "version": 3
   },
   "file_extension": ".py",
   "mimetype": "text/x-python",
   "name": "python",
   "nbconvert_exporter": "python",
   "pygments_lexer": "ipython3",
   "version": "3.9.12"
  }
 },
 "nbformat": 4,
 "nbformat_minor": 1
}
